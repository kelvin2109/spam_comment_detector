{
 "cells": [
  {
   "cell_type": "code",
   "execution_count": 11,
   "id": "9683da0b",
   "metadata": {},
   "outputs": [],
   "source": [
    "from sklearn.metrics import auc, average_precision_score\n",
    "import matplotlib.pyplot as plt\n",
    "import joblib\n",
    "import pickle\n",
    "import pandas as pd"
   ]
  },
  {
   "cell_type": "markdown",
   "id": "4b83b419",
   "metadata": {},
   "source": [
    "# LOAD DATASETS"
   ]
  },
  {
   "cell_type": "code",
   "execution_count": 12,
   "id": "f2fed338",
   "metadata": {},
   "outputs": [],
   "source": [
    "dirloc = 'train_test_dataset'\n",
    "train_x = pd.read_csv('{}/train_x.csv'.format(dirloc))\n",
    "train_y = pd.read_csv('{}/train_y.csv'.format(dirloc))\n",
    "test_x = pd.read_csv('{}/test_x.csv'.format(dirloc))\n",
    "test_y = pd.read_csv('{}/test_y.csv'.format(dirloc))"
   ]
  },
  {
   "cell_type": "code",
   "execution_count": 13,
   "id": "9daab3e8",
   "metadata": {},
   "outputs": [],
   "source": [
    "def calc_precision_recall(y_true, y_pred):\n",
    "    \n",
    "    y_pred = pd.Series(y_pred, index=y_true.index)\n",
    "    \n",
    "    TP = 0\n",
    "    FP = 0\n",
    "    FN = 0\n",
    "\n",
    "    for i in y_true.index: \n",
    "        if y_true[i]==y_pred[i]==1:\n",
    "            TP += 1\n",
    "        if y_pred[i]==1 and y_true[i] != y_pred[i]:\n",
    "            FP += 1\n",
    "        if y_pred[i]==0 and y_test[i] != y_pred[i]:\n",
    "            FN += 1\n",
    "    \n",
    " \n",
    "    try:\n",
    "        precision = TP / (TP + FP)\n",
    "    except:\n",
    "        precision = 1\n",
    "    \n",
    "    try:\n",
    "        recall = TP / (TP + FN)\n",
    "    except:\n",
    "        recall = 1\n",
    "\n",
    "    return precision, recall"
   ]
  },
  {
   "cell_type": "markdown",
   "id": "478c154a",
   "metadata": {},
   "source": [
    "# LOAD models"
   ]
  },
  {
   "cell_type": "code",
   "execution_count": 14,
   "id": "9f7acb2f",
   "metadata": {},
   "outputs": [],
   "source": [
    "svm_model = pickle.load(open(\"model/model-svm.pkl\",\"rb\"))\n",
    "RF_model = pickle.load(open(\"model/random-forest.pkl\",\"rb\"))\n",
    "XG_model = pickle.load(open(\"model/xgboost_best_model.pkl\",\"rb\"))"
   ]
  },
  {
   "cell_type": "markdown",
   "id": "ced421cc",
   "metadata": {},
   "source": [
    "# Comparing model evaluations"
   ]
  },
  {
   "cell_type": "code",
   "execution_count": 15,
   "id": "35315259",
   "metadata": {},
   "outputs": [],
   "source": [
    "y_pred_svm = svm_model.predict(test_x)\n",
    "y_pred_RF = RF_model.predict(test_x)\n",
    "y_pred_XG = XG_model.predict(test_x)"
   ]
  },
  {
   "cell_type": "code",
   "execution_count": 18,
   "id": "68b7b8e0",
   "metadata": {},
   "outputs": [],
   "source": [
    "test_y = test_y.to_numpy().reshape(-1)"
   ]
  },
  {
   "cell_type": "code",
   "execution_count": 20,
   "id": "541eb3f0",
   "metadata": {},
   "outputs": [
    {
     "data": {
      "text/plain": [
       "array([1, 1, 1, 0, 1, 0, 1, 1, 0, 0, 0, 1, 1, 0, 0, 0, 0, 1, 1, 0, 0, 1,\n",
       "       1, 1, 1, 1, 0, 1, 0, 0, 1, 0, 1, 0, 0, 0, 0, 1, 0, 1, 0, 0, 0, 1,\n",
       "       0, 0, 1, 1, 1, 0, 0, 0, 1, 0, 0, 0, 1, 1, 0, 1, 1, 0, 1, 0, 1, 1,\n",
       "       1, 0, 1, 0, 0, 1, 0, 1, 1, 1, 1, 1, 0, 1, 0, 0, 0, 1, 0, 1, 1, 0,\n",
       "       0, 0, 1, 0, 1, 0, 0, 1, 0, 0, 1, 1, 1, 1, 0, 1, 1, 1, 0, 1, 1, 0,\n",
       "       1, 0, 0, 1, 1], dtype=int64)"
      ]
     },
     "execution_count": 20,
     "metadata": {},
     "output_type": "execute_result"
    }
   ],
   "source": [
    "test_y"
   ]
  },
  {
   "cell_type": "code",
   "execution_count": 21,
   "id": "62647450",
   "metadata": {},
   "outputs": [
    {
     "data": {
      "text/plain": [
       "array([1, 1, 1, 0, 1, 0, 1, 1, 0, 0, 0, 1, 1, 0, 0, 0, 0, 1, 1, 0, 0, 1,\n",
       "       1, 1, 1, 1, 0, 1, 0, 0, 1, 0, 1, 0, 0, 0, 0, 1, 0, 1, 0, 0, 0, 1,\n",
       "       0, 0, 1, 1, 1, 0, 0, 0, 0, 0, 0, 0, 1, 1, 0, 1, 1, 0, 0, 0, 1, 1,\n",
       "       1, 0, 1, 1, 0, 1, 0, 1, 1, 1, 1, 0, 0, 1, 0, 0, 0, 0, 1, 1, 1, 0,\n",
       "       0, 0, 1, 1, 1, 0, 0, 1, 0, 0, 1, 1, 1, 0, 0, 1, 0, 1, 0, 1, 1, 0,\n",
       "       1, 0, 0, 1, 1], dtype=int64)"
      ]
     },
     "execution_count": 21,
     "metadata": {},
     "output_type": "execute_result"
    }
   ],
   "source": [
    "y_pred_svm"
   ]
  },
  {
   "cell_type": "code",
   "execution_count": 22,
   "id": "5cf32003",
   "metadata": {},
   "outputs": [
    {
     "ename": "AttributeError",
     "evalue": "'numpy.ndarray' object has no attribute 'index'",
     "output_type": "error",
     "traceback": [
      "\u001b[1;31m---------------------------------------------------------------------------\u001b[0m",
      "\u001b[1;31mAttributeError\u001b[0m                            Traceback (most recent call last)",
      "Input \u001b[1;32mIn [22]\u001b[0m, in \u001b[0;36m<cell line: 1>\u001b[1;34m()\u001b[0m\n\u001b[1;32m----> 1\u001b[0m svm_precision, svm_recall \u001b[38;5;241m=\u001b[39m \u001b[43mcalc_precision_recall\u001b[49m\u001b[43m(\u001b[49m\u001b[43mtest_y\u001b[49m\u001b[43m,\u001b[49m\u001b[43m \u001b[49m\u001b[43my_pred_svm\u001b[49m\u001b[43m)\u001b[49m\n\u001b[0;32m      2\u001b[0m RF_precision,RF_recall \u001b[38;5;241m=\u001b[39m calc_precision_recall(test_y,y_pred_RF)\n\u001b[0;32m      3\u001b[0m XG_precision,XG_recall \u001b[38;5;241m=\u001b[39m calc_precision_recall(test_y,y_pred_XG)\n",
      "Input \u001b[1;32mIn [13]\u001b[0m, in \u001b[0;36mcalc_precision_recall\u001b[1;34m(y_true, y_pred)\u001b[0m\n\u001b[0;32m      1\u001b[0m \u001b[38;5;28;01mdef\u001b[39;00m \u001b[38;5;21mcalc_precision_recall\u001b[39m(y_true, y_pred):\n\u001b[1;32m----> 3\u001b[0m     y_pred \u001b[38;5;241m=\u001b[39m pd\u001b[38;5;241m.\u001b[39mSeries(y_pred, index\u001b[38;5;241m=\u001b[39m\u001b[43my_true\u001b[49m\u001b[38;5;241;43m.\u001b[39;49m\u001b[43mindex\u001b[49m)\n\u001b[0;32m      5\u001b[0m     TP \u001b[38;5;241m=\u001b[39m \u001b[38;5;241m0\u001b[39m\n\u001b[0;32m      6\u001b[0m     FP \u001b[38;5;241m=\u001b[39m \u001b[38;5;241m0\u001b[39m\n",
      "\u001b[1;31mAttributeError\u001b[0m: 'numpy.ndarray' object has no attribute 'index'"
     ]
    }
   ],
   "source": [
    "svm_precision, svm_recall = calc_precision_recall(test_y, y_pred_svm)\n",
    "RF_precision,RF_recall = calc_precision_recall(test_y,y_pred_RF)\n",
    "XG_precision,XG_recall = calc_precision_recall(test_y,y_pred_XG)"
   ]
  },
  {
   "cell_type": "code",
   "execution_count": 23,
   "id": "7f714818",
   "metadata": {},
   "outputs": [
    {
     "ename": "NameError",
     "evalue": "name 'precision_scores' is not defined",
     "output_type": "error",
     "traceback": [
      "\u001b[1;31m---------------------------------------------------------------------------\u001b[0m",
      "\u001b[1;31mNameError\u001b[0m                                 Traceback (most recent call last)",
      "Input \u001b[1;32mIn [23]\u001b[0m, in \u001b[0;36m<cell line: 1>\u001b[1;34m()\u001b[0m\n\u001b[1;32m----> 1\u001b[0m \u001b[43mprecision_scores\u001b[49m\u001b[38;5;241m.\u001b[39mappend(precision)\n\u001b[0;32m      2\u001b[0m recall_scores\u001b[38;5;241m.\u001b[39mappend(recall)\n",
      "\u001b[1;31mNameError\u001b[0m: name 'precision_scores' is not defined"
     ]
    }
   ],
   "source": [
    "precision_scores.append(precision)\n",
    "recall_scores.append(recall)"
   ]
  },
  {
   "cell_type": "code",
   "execution_count": null,
   "id": "cac1773d",
   "metadata": {},
   "outputs": [],
   "source": []
  }
 ],
 "metadata": {
  "kernelspec": {
   "display_name": "Python 3 (ipykernel)",
   "language": "python",
   "name": "python3"
  },
  "language_info": {
   "codemirror_mode": {
    "name": "ipython",
    "version": 3
   },
   "file_extension": ".py",
   "mimetype": "text/x-python",
   "name": "python",
   "nbconvert_exporter": "python",
   "pygments_lexer": "ipython3",
   "version": "3.8.10"
  }
 },
 "nbformat": 4,
 "nbformat_minor": 5
}
