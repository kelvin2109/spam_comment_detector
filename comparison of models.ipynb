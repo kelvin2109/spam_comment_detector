{
 "cells": [
  {
   "cell_type": "code",
   "execution_count": 35,
   "id": "e295b1b6",
   "metadata": {},
   "outputs": [],
   "source": [
    "from sklearn.metrics import auc, average_precision_score\n",
    "import matplotlib.pyplot as plt\n",
    "import joblib\n",
    "import pickle\n",
    "import pandas as pd"
   ]
  },
  {
   "cell_type": "markdown",
   "id": "773f9060",
   "metadata": {},
   "source": [
    "# LOAD DATASETS"
   ]
  },
  {
   "cell_type": "code",
   "execution_count": 36,
   "id": "266cb495",
   "metadata": {},
   "outputs": [],
   "source": [
    "dirloc = 'train_test_dataset'\n",
    "train_x = pd.read_csv('{}/train_x.csv'.format(dirloc))\n",
    "train_y = pd.read_csv('{}/train_y.csv'.format(dirloc))\n",
    "test_x = pd.read_csv('{}/test_x.csv'.format(dirloc))\n",
    "test_y = pd.read_csv('{}/test_y.csv'.format(dirloc))"
   ]
  },
  {
   "cell_type": "code",
   "execution_count": 37,
   "id": "dd2b0986",
   "metadata": {},
   "outputs": [],
   "source": [
    "def calc_precision_recall(y_true, y_pred):\n",
    "    \n",
    "    y_pred = pd.Series(y_pred, index=y_true.index)\n",
    "    \n",
    "    TP = 0\n",
    "    FP = 0\n",
    "    FN = 0\n",
    "\n",
    "    for i in y_true.index: \n",
    "        if y_true[i]==y_pred[i]==1:\n",
    "            TP += 1\n",
    "        if y_pred[i]==1 and y_true[i] != y_pred[i]:\n",
    "            FP += 1\n",
    "        if y_pred[i]==0 and y_test[i] != y_pred[i]:\n",
    "            FN += 1\n",
    "    \n",
    " \n",
    "    try:\n",
    "        precision = TP / (TP + FP)\n",
    "    except:\n",
    "        precision = 1\n",
    "    \n",
    "    try:\n",
    "        recall = TP / (TP + FN)\n",
    "    except:\n",
    "        recall = 1\n",
    "\n",
    "    return precision, recall"
   ]
  },
  {
   "cell_type": "markdown",
   "id": "766fbeb8",
   "metadata": {},
   "source": [
    "# LOAD models"
   ]
  },
  {
   "cell_type": "code",
   "execution_count": 38,
   "id": "bab01b28",
   "metadata": {},
   "outputs": [],
   "source": [
    "svm_model = pickle.load(open(\"model/model-svm.pkl\",\"rb\"))\n",
    "RF_model = pickle.load(open(\"model/random-forest.pkl\",\"rb\"))\n",
    "XG_model = pickle.load(open(\"model/xgboost_best_model.pkl\",\"rb\"))"
   ]
  },
  {
   "cell_type": "markdown",
   "id": "0e4f9124",
   "metadata": {},
   "source": [
    "# Comparing model evaluations"
   ]
  },
  {
   "cell_type": "code",
   "execution_count": 39,
   "id": "0ef3e5e4",
   "metadata": {},
   "outputs": [],
   "source": [
    "y_pred_svm = svm_model.predict(test_x)\n",
    "y_pred_RF = RF_model.predict(test_x)\n",
    "y_pred_XG = XG_model.predict(test_x)"
   ]
  },
  {
   "cell_type": "code",
   "execution_count": 44,
   "id": "4217d4ab",
   "metadata": {},
   "outputs": [],
   "source": [
    "test_y = test_y.to_numpy().reshape(-1)\n",
    "y_pred = [y_pred_svm,y_pred_RF,y_pred_XG]"
   ]
  },
  {
   "cell_type": "code",
   "execution_count": 45,
   "id": "5b16f05a",
   "metadata": {},
   "outputs": [],
   "source": [
    "from sklearn.metrics import precision_score, recall_score\n",
    "\n",
    "svm_precision = precision_score(test_y, y_pred_svm)\n",
    "svm_recall = recall_score(test_y,y_pred_svm)\n",
    "RF_precision = precision_score(test_y,y_pred_RF)\n",
    "RF_recall = recall_score(test_y,y_pred_RF)\n",
    "XG_precision = precision_score(test_y,y_pred_XG)\n",
    "XG_recall = recall_score(test_y,y_pred_XG)"
   ]
  },
  {
   "cell_type": "code",
   "execution_count": 47,
   "id": "0304a0ec",
   "metadata": {},
   "outputs": [],
   "source": [
    "def precision_and_recall(y_actual,y_pred):\n",
    "    m_arr = ['SVM','Random-Forest','XGboost']\n",
    "    for n,i in zip(m_arr,y_pred):\n",
    "        print('precision score for',n,':',precision_score(y_actual,i))\n",
    "        print('recall score for',n,':',recall_score(y_actual,i))"
   ]
  },
  {
   "cell_type": "code",
   "execution_count": 48,
   "id": "fda4fee3",
   "metadata": {},
   "outputs": [
    {
     "name": "stdout",
     "output_type": "stream",
     "text": [
      "precision score for SVM : 0.9464285714285714\n",
      "recall score for SVM : 0.8983050847457628\n",
      "precision score for Random-Forest : 0.9629629629629629\n",
      "recall score for Random-Forest : 0.8813559322033898\n",
      "precision score for XGboost : 0.9464285714285714\n",
      "recall score for XGboost : 0.8983050847457628\n"
     ]
    }
   ],
   "source": [
    "precision_and_recall(test_y,y_pred)"
   ]
  }
 ],
 "metadata": {
  "kernelspec": {
   "display_name": "Python 3 (ipykernel)",
   "language": "python",
   "name": "python3"
  },
  "language_info": {
   "codemirror_mode": {
    "name": "ipython",
    "version": 3
   },
   "file_extension": ".py",
   "mimetype": "text/x-python",
   "name": "python",
   "nbconvert_exporter": "python",
   "pygments_lexer": "ipython3",
   "version": "3.8.18"
  }
 },
 "nbformat": 4,
 "nbformat_minor": 5
}
