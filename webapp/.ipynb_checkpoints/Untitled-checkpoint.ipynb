{
 "cells": [
  {
   "cell_type": "code",
   "execution_count": 1,
   "id": "82a3cfd2",
   "metadata": {},
   "outputs": [],
   "source": [
    "import numpy as np\n",
    "import pandas as pd\n",
    "import os\n",
    "import glob\n",
    "import joblib\n",
    "from sklearn.model_selection import train_test_split\n",
    "import joblib\n",
    "from sklearn.feature_extraction.text import CountVectorizer\n"
   ]
  },
  {
   "cell_type": "code",
   "execution_count": 2,
   "id": "92b8136d",
   "metadata": {},
   "outputs": [
    {
     "ename": "FileNotFoundError",
     "evalue": "[Errno 2] No such file or directory: 'model/vectorizer/bow_feature.pkl'",
     "output_type": "error",
     "traceback": [
      "\u001b[1;31m---------------------------------------------------------------------------\u001b[0m",
      "\u001b[1;31mFileNotFoundError\u001b[0m                         Traceback (most recent call last)",
      "Input \u001b[1;32mIn [2]\u001b[0m, in \u001b[0;36m<cell line: 3>\u001b[1;34m()\u001b[0m\n\u001b[0;32m      1\u001b[0m path \u001b[38;5;241m=\u001b[39m \u001b[38;5;124m'\u001b[39m\u001b[38;5;124mmodel/vectorizer/bow_feature.pkl\u001b[39m\u001b[38;5;124m'\u001b[39m\n\u001b[1;32m----> 3\u001b[0m \u001b[38;5;28;01mwith\u001b[39;00m \u001b[38;5;28;43mopen\u001b[39;49m\u001b[43m(\u001b[49m\u001b[43mpath\u001b[49m\u001b[43m,\u001b[49m\u001b[38;5;124;43m\"\u001b[39;49m\u001b[38;5;124;43mrb\u001b[39;49m\u001b[38;5;124;43m\"\u001b[39;49m\u001b[43m)\u001b[49m \u001b[38;5;28;01mas\u001b[39;00m f:\n\u001b[0;32m      4\u001b[0m     m \u001b[38;5;241m=\u001b[39m joblib\u001b[38;5;241m.\u001b[39mload(f)\n",
      "\u001b[1;31mFileNotFoundError\u001b[0m: [Errno 2] No such file or directory: 'model/vectorizer/bow_feature.pkl'"
     ]
    }
   ],
   "source": [
    "path = 'cache/preprocessed_word/bow_feature.pkl'\n",
    "\n",
    "with open(path,\"rb\") as f:\n",
    "    m = joblib.load(f)"
   ]
  },
  {
   "cell_type": "code",
   "execution_count": null,
   "id": "1d68f266",
   "metadata": {},
   "outputs": [],
   "source": [
    "path_2 = 'model/model_random-forest.pkl'\n",
    "\n",
    "with open(path_2,\"rb\") as f:\n",
    "    model = joblib.load(f)"
   ]
  },
  {
   "cell_type": "code",
   "execution_count": null,
   "id": "85032c25",
   "metadata": {},
   "outputs": [],
   "source": [
    "def dummy_fun(doc):\n",
    "    return doc\n",
    "\n",
    "vectorizer = CountVectorizer(max_features=4000,preprocessor=dummy_fun, tokenizer=dummy_fun, vocabulary=m['vocabulary'])"
   ]
  },
  {
   "cell_type": "code",
   "execution_count": null,
   "id": "4e50155e",
   "metadata": {},
   "outputs": [],
   "source": [
    "my_arr = [['my','my','name'],['you','can','do','it']]"
   ]
  },
  {
   "cell_type": "code",
   "execution_count": null,
   "id": "ef065b88",
   "metadata": {},
   "outputs": [],
   "source": [
    "results = vectorizer.transform(my_arr).toarray()"
   ]
  },
  {
   "cell_type": "code",
   "execution_count": null,
   "id": "a7bf7da8",
   "metadata": {},
   "outputs": [],
   "source": [
    "np.shape(results)"
   ]
  },
  {
   "cell_type": "code",
   "execution_count": null,
   "id": "3b07732d",
   "metadata": {},
   "outputs": [],
   "source": [
    "numpy.set_printoptions(threshold=sys.maxsize)\n",
    "print(vectorizer.transform([list(\"000 000\".split(\" \"))]).toarray())"
   ]
  },
  {
   "cell_type": "code",
   "execution_count": null,
   "id": "003b9759",
   "metadata": {},
   "outputs": [],
   "source": [
    "\"my name is anton\""
   ]
  },
  {
   "cell_type": "code",
   "execution_count": null,
   "id": "0b6595f9",
   "metadata": {},
   "outputs": [],
   "source": []
  }
 ],
 "metadata": {
  "kernelspec": {
   "display_name": "Python 3 (ipykernel)",
   "language": "python",
   "name": "python3"
  },
  "language_info": {
   "codemirror_mode": {
    "name": "ipython",
    "version": 3
   },
   "file_extension": ".py",
   "mimetype": "text/x-python",
   "name": "python",
   "nbconvert_exporter": "python",
   "pygments_lexer": "ipython3",
   "version": "3.8.18"
  }
 },
 "nbformat": 4,
 "nbformat_minor": 5
}
