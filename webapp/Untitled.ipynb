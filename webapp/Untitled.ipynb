{
 "cells": [
  {
   "cell_type": "code",
   "execution_count": 38,
   "id": "5791ec02",
   "metadata": {},
   "outputs": [],
   "source": [
    "import numpy as np\n",
    "import pandas as pd\n",
    "import os\n",
    "import glob\n",
    "import joblib\n",
    "from sklearn.model_selection import train_test_split\n",
    "import joblib\n",
    "from sklearn.feature_extraction.text import CountVectorizer\n",
    "import pickle"
   ]
  },
  {
   "cell_type": "code",
   "execution_count": 39,
   "id": "38214263",
   "metadata": {},
   "outputs": [],
   "source": [
    "path = 'model/preprocessed_word/bow_feature.pkl'\n",
    "\n",
    "with open(path,\"rb\") as f:\n",
    "    m = joblib.load(f)"
   ]
  },
  {
   "cell_type": "code",
   "execution_count": 54,
   "id": "33f4f795",
   "metadata": {},
   "outputs": [],
   "source": [
    "path_2 = 'model/model_random-forest.pkl'\n",
    "\n",
    "with open(path_2,\"rb\") as f:\n",
    "    model = pickle.load(f)"
   ]
  },
  {
   "cell_type": "code",
   "execution_count": 55,
   "id": "22f3b89b",
   "metadata": {},
   "outputs": [],
   "source": [
    "def dummy_fun(doc):\n",
    "    return doc\n",
    "\n",
    "vectorizer = CountVectorizer(max_features=4000,preprocessor=dummy_fun, tokenizer=dummy_fun, vocabulary=m['vocabulary'])"
   ]
  },
  {
   "cell_type": "code",
   "execution_count": 72,
   "id": "04eda589",
   "metadata": {},
   "outputs": [],
   "source": [
    "if model.predict(vectorizer.transform([list('watching this mv alot'.split(\" \"))])) == 1:\n",
    "    print(\"its spam\")"
   ]
  }
 ],
 "metadata": {
  "kernelspec": {
   "display_name": "Python 3 (ipykernel)",
   "language": "python",
   "name": "python3"
  },
  "language_info": {
   "codemirror_mode": {
    "name": "ipython",
    "version": 3
   },
   "file_extension": ".py",
   "mimetype": "text/x-python",
   "name": "python",
   "nbconvert_exporter": "python",
   "pygments_lexer": "ipython3",
   "version": "3.8.18"
  }
 },
 "nbformat": 4,
 "nbformat_minor": 5
}
